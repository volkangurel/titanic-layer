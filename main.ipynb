{
  "cells": [
    {
      "cell_type": "markdown",
      "metadata": {
        "id": "view-in-github",
        "colab_type": "text"
      },
      "source": [
        "<a href=\"https://colab.research.google.com/github/volkangurel/titanic-layer/blob/main/main.ipynb\" target=\"_parent\"><img src=\"https://colab.research.google.com/assets/colab-badge.svg\" alt=\"Open In Colab\"/></a>"
      ]
    },
    {
      "cell_type": "markdown",
      "source": [
        "# Installation\n",
        "\n",
        "You will need Python 3.7.12 for this demo. You can ignore the pip resolver errrors"
      ],
      "metadata": {
        "id": "pzfLqSWG5ylG"
      },
      "id": "pzfLqSWG5ylG"
    },
    {
      "cell_type": "code",
      "execution_count": null,
      "id": "de82a166-af36-4f9d-a948-980e280b50ce",
      "metadata": {
        "id": "de82a166-af36-4f9d-a948-980e280b50ce"
      },
      "outputs": [],
      "source": [
        "from platform import python_version\n",
        "\n",
        "required = \"3.7.12\"\n",
        "if not python_version() == required:\n",
        "    print(f\"Python {required} is required to run this demo. Your version is {python_version()}\")"
      ]
    },
    {
      "cell_type": "code",
      "execution_count": null,
      "id": "42a92be3-9c8d-482e-b84e-ab53f60f621c",
      "metadata": {
        "id": "42a92be3-9c8d-482e-b84e-ab53f60f621c"
      },
      "outputs": [],
      "source": [
        "!rm -rf titanicv2\n",
        "!git clone https://github.com/mecevit/titanicv2.git\n",
        "!pip install wheel\n",
        "!pip install titanicv2/layer_sdk-0.8.15.post50.dev0+g2adb2162d8.dirty-py3-none-any.whl -qqq"
      ]
    },
    {
      "cell_type": "markdown",
      "source": [
        "Let's see if we have Layer installed successfully"
      ],
      "metadata": {
        "id": "Q8Whzmpx5-B-"
      },
      "id": "Q8Whzmpx5-B-"
    },
    {
      "cell_type": "code",
      "execution_count": null,
      "id": "279d467a-33b8-4ddc-8e11-f44b04e497ad",
      "metadata": {
        "colab": {
          "base_uri": "https://localhost:8080/"
        },
        "id": "279d467a-33b8-4ddc-8e11-f44b04e497ad",
        "outputId": "2e283147-7800-4a32-ed09-2dbdf6b0bf73"
      },
      "outputs": [
        {
          "output_type": "stream",
          "name": "stdout",
          "text": [
            "Layer, version 0.8.15.post50.dev+g2adb2162d8.dirty\n"
          ]
        }
      ],
      "source": [
        "!layer --version"
      ]
    },
    {
      "cell_type": "markdown",
      "source": [
        "# Register and Login\n",
        "\n",
        "To use Layer, you have to register and login. Run the following cell, click the link, register and paste the code in the input"
      ],
      "metadata": {
        "id": "3v42utb16Fl9"
      },
      "id": "3v42utb16Fl9"
    },
    {
      "cell_type": "code",
      "execution_count": null,
      "id": "5b074b9f-eca0-4c30-9b6b-1b181948a4b5",
      "metadata": {
        "id": "5b074b9f-eca0-4c30-9b6b-1b181948a4b5"
      },
      "outputs": [],
      "source": [
        "from layer.v2.assertions import greatexpectations, assert_true, assert_valid_values, assert_not_null, assert_unique\n",
        "from layer.v2.decorators import dataset, model\n",
        "from layer.v2.dependencies import File\n",
        "from layer.v2 import LayerProject\n",
        "from layer.client import Dataset\n",
        "import layer\n",
        "\n",
        "# layer.logout()\n",
        "layer.login(\"https://dev-judgment-day.layer.co/\")"
      ]
    },
    {
      "cell_type": "markdown",
      "source": [
        "# Let's dive in!\n",
        "\n",
        "Everything is ready. Now let's start building our model. Within our notebook, we will be building a model for predicting the survivals of the Titanic passengers. We will be using the famous [Kaggle Titanic](https://www.kaggle.com/c/titanic/data?select=train.csv) dataset."
      ],
      "metadata": {
        "id": "HL9bECPb6U4Z"
      },
      "id": "HL9bECPb6U4Z"
    },
    {
      "cell_type": "code",
      "execution_count": null,
      "id": "c8816120-2343-49be-93da-3ffbb1d328d1",
      "metadata": {
        "id": "c8816120-2343-49be-93da-3ffbb1d328d1"
      },
      "outputs": [],
      "source": [
        "from sklearn.ensemble import RandomForestClassifier\n",
        "from sklearn.model_selection import train_test_split\n",
        "from sklearn.metrics import accuracy_score, f1_score\n",
        "from pathlib import Path\n",
        "import pandas as pd\n",
        "\n",
        "def clean_sex(sex):\n",
        "    result = 0\n",
        "    if sex == \"female\":\n",
        "        result = 0\n",
        "    elif sex == \"male\":\n",
        "        result = 1\n",
        "    return result\n",
        "\n",
        "\n",
        "def clean_age(data):\n",
        "    age = data[0]\n",
        "    pclass = data[1]\n",
        "    if pd.isnull(age):\n",
        "        if pclass == 1:\n",
        "            return 37\n",
        "        elif pclass == 2:\n",
        "            return 29\n",
        "        else:\n",
        "            return 24\n",
        "    else:\n",
        "        return age\n",
        "\n",
        "def dummy_passengers():\n",
        "    # Based on passenger 2 (high passenger class female)\n",
        "    passenger2 = {'PassengerId': 2,\n",
        "                  'Pclass': 1,\n",
        "                  'Name': ' Mrs. John',\n",
        "                  'Sex': 'female',\n",
        "                  'Age': 38.0,\n",
        "                  'SibSp': 1,\n",
        "                  'Parch': 0,\n",
        "                  'Ticket': 'PC 17599',\n",
        "                  'Fare': 71.2833,\n",
        "                  'Embarked': 'C'}\n",
        "\n",
        "    return passenger2\n",
        "\n",
        "\n",
        "def get_passenger_features(df):\n",
        "    df['Sex'] = df['Sex'].apply(clean_sex)\n",
        "    df['Age'] = df[['Age', 'Pclass']].apply(clean_age, axis=1)\n",
        "    return df[['Pclass', 'Sex', 'Age', 'SibSp', 'Parch', 'Fare']]\n",
        "\n",
        "\n",
        "def test_survival_probability(model:RandomForestClassifier) -> bool:\n",
        "    \"\"\"\n",
        "    We have 2 directional expectations here:\n",
        "    - Changing gender from female to male should decrease survival probability.\n",
        "    - Changing Pclass from 1 to 3 should decrease survival probability.\n",
        "\n",
        "    Reference:\n",
        "    https://eugeneyan.com/writing/testing-ml/\n",
        "\n",
        "    :param model: Trained survival model\n",
        "    :return:\n",
        "    \"\"\"\n",
        "    p2 = dummy_passengers()\n",
        "\n",
        "    # Get original survival probability of passenger 2\n",
        "    test_df = pd.DataFrame.from_dict([p2], orient='columns')\n",
        "    X = get_passenger_features(test_df)\n",
        "    p2_prob = model.predict_proba(X)[0][1]  # 0.99\n",
        "\n",
        "    # Change gender from female to male\n",
        "    p2_male = p2.copy()\n",
        "    p2_male['Sex'] = 'male'\n",
        "    test_df = pd.DataFrame.from_dict([p2_male], orient='columns')\n",
        "    X = get_passenger_features(test_df)\n",
        "    p2_male_prob = model.predict_proba(X)[0][1]  # 0.53\n",
        "\n",
        "    # Change class from 1 to 3\n",
        "    p2_class = p2.copy()\n",
        "    p2_class['Pclass'] = 3\n",
        "    test_df = pd.DataFrame.from_dict([p2_class], orient='columns')\n",
        "    X = get_passenger_features(test_df)\n",
        "    p2_class_prob = model.predict_proba(X)[0][1]  # 0.0\n",
        "\n",
        "    # Changing gender from female to male should decrease survival probability.\n",
        "    return p2_male_prob < p2_prob and p2_class_prob < p2_prob\n",
        "\n",
        "data_file = 'titanicv2/titanic.csv'"
      ]
    },
    {
      "cell_type": "code",
      "execution_count": null,
      "id": "708aeaff-447a-47be-8332-2023f139cb04",
      "metadata": {
        "id": "708aeaff-447a-47be-8332-2023f139cb04"
      },
      "outputs": [],
      "source": [
        "@dataset('passengers', dependencies=[File(data_file)])\n",
        "@assert_valid_values('Sex', ['male', 'female'])\n",
        "@assert_unique(\"PassengerId\")\n",
        "def read_and_clean_dataset():\n",
        "    df = pd.read_csv(data_file)\n",
        "    return df\n",
        "\n",
        "@dataset('features')\n",
        "@assert_valid_values('Sex', [0,1])\n",
        "def extract_features():\n",
        "    df = layer.get_dataset(\"passengers\").to_pandas()\n",
        "    # df = read_and_clean_dataset()\n",
        "    df['Sex'] = df['Sex'].apply(clean_sex)\n",
        "    df['Age'] = df[['Age', 'Pclass']].apply(clean_age, axis=1)\n",
        "    df = df.drop([\"PassengerId\", \"Name\", \"Cabin\", \"Ticket\", \"Embarked\"], axis=1)\n",
        "    return df\n",
        "\n",
        "@model(name='survival_model')\n",
        "@assert_true(test_survival_probability)\n",
        "# @fabric(\"f-spark-large\")\n",
        "# @schedule(reactive=[Dataset(\"features\")])\n",
        "def train():\n",
        "    # df = extract_features()\n",
        "    df = layer.get_dataset(\"features\").to_pandas()\n",
        "    X = df.drop([\"Survived\"], axis=1)\n",
        "    y = df[\"Survived\"]\n",
        "    X_train, X_test, y_train, y_test = train_test_split(X, y, test_size=0.3, random_state=42)\n",
        "    random_forest = RandomForestClassifier(n_estimators=100)\n",
        "    random_forest.fit(X_train, y_train)\n",
        "    y_pred = random_forest.predict(X_test)\n",
        "    layer.log_metric(\"accuracy\", accuracy_score(y_test, y_pred))\n",
        "    layer.log_metric(\"f1\", f1_score(y_test, y_pred))\n",
        "    return random_forest\n",
        "\n",
        "\n",
        "\n",
        "# ++ init Layer\n",
        "layer_project = LayerProject(name=\"titanic\", requirements=File(\"titanicv2/requirements.txt\"), debug=True)\n",
        "\n",
        "# ++ To run the whole project on Layer Infra, the order is not important\n",
        "layer_project.run([train, read_and_clean_dataset, extract_features])\n",
        "\n",
        "# ++ To build individual assets on Layer infra\n",
        "# layer_project.run([read_and_clean_dataset])\n",
        "# layer_project.run([extract_features])\n",
        "# layer_project.run([train])\n",
        "\n",
        "# ++ To debug the code locally, just call the function:\n",
        "# train()\n",
        "# df = read_and_clean_dataset()\n",
        "# df = extract_features()\n",
        "# df.head()\n",
        "# train()"
      ]
    },
    {
      "cell_type": "markdown",
      "source": [
        "# Results\n",
        "\n",
        "After you train your model, you can see all your datasets, features and model experiments here in the Layer interface\n",
        "\n",
        "https://dev-judgment-day.layer.co/\n",
        "\n",
        "Or you can re-use one of the entities you have created. Let's fetch the model and the features you just built and do some batch predictions"
      ],
      "metadata": {
        "id": "sfBEUzvS7oVY"
      },
      "id": "sfBEUzvS7oVY"
    },
    {
      "cell_type": "code",
      "source": [
        "survival_model = layer.get_model(\"survival_model\")\n",
        "survival_model.metrics"
      ],
      "metadata": {
        "colab": {
          "base_uri": "https://localhost:8080/"
        },
        "id": "A2d-LGb99Jrr",
        "outputId": "2d0e150a-696c-4396-9811-a0c5ab31f462"
      },
      "id": "A2d-LGb99Jrr",
      "execution_count": null,
      "outputs": [
        {
          "output_type": "execute_result",
          "data": {
            "text/plain": [
              "{'accuracy': [(1643901290564, 0.7947761194029851)],\n",
              " 'f1': [(1643901290579, 0.7417840375586854)]}"
            ]
          },
          "metadata": {},
          "execution_count": 5
        }
      ]
    },
    {
      "cell_type": "code",
      "source": [
        "train = survival_model.get_train()\n",
        "train"
      ],
      "metadata": {
        "colab": {
          "base_uri": "https://localhost:8080/"
        },
        "id": "cToa3Gz09W3H",
        "outputId": "b137402c-d572-4a23-f7b0-19e3dbfd9b21"
      },
      "id": "cToa3Gz09W3H",
      "execution_count": null,
      "outputs": [
        {
          "output_type": "execute_result",
          "data": {
            "text/plain": [
              "RandomForestClassifier()"
            ]
          },
          "metadata": {},
          "execution_count": 6
        }
      ]
    },
    {
      "cell_type": "code",
      "source": [
        "passenger_features = layer.get_dataset(\"features\").to_pandas()\n",
        "passenger_features.head()"
      ],
      "metadata": {
        "colab": {
          "base_uri": "https://localhost:8080/",
          "height": 206
        },
        "id": "9KzdA_66_FYw",
        "outputId": "77681098-070a-4086-d956-03238c9114dd"
      },
      "id": "9KzdA_66_FYw",
      "execution_count": null,
      "outputs": [
        {
          "output_type": "execute_result",
          "data": {
            "text/html": [
              "\n",
              "  <div id=\"df-d37b8538-f48b-463e-bfd2-b6e00dd8b647\">\n",
              "    <div class=\"colab-df-container\">\n",
              "      <div>\n",
              "<style scoped>\n",
              "    .dataframe tbody tr th:only-of-type {\n",
              "        vertical-align: middle;\n",
              "    }\n",
              "\n",
              "    .dataframe tbody tr th {\n",
              "        vertical-align: top;\n",
              "    }\n",
              "\n",
              "    .dataframe thead th {\n",
              "        text-align: right;\n",
              "    }\n",
              "</style>\n",
              "<table border=\"1\" class=\"dataframe\">\n",
              "  <thead>\n",
              "    <tr style=\"text-align: right;\">\n",
              "      <th></th>\n",
              "      <th>Survived</th>\n",
              "      <th>Pclass</th>\n",
              "      <th>Sex</th>\n",
              "      <th>Age</th>\n",
              "      <th>SibSp</th>\n",
              "      <th>Parch</th>\n",
              "      <th>Fare</th>\n",
              "    </tr>\n",
              "  </thead>\n",
              "  <tbody>\n",
              "    <tr>\n",
              "      <th>0</th>\n",
              "      <td>0</td>\n",
              "      <td>3</td>\n",
              "      <td>1</td>\n",
              "      <td>22.0</td>\n",
              "      <td>1</td>\n",
              "      <td>0</td>\n",
              "      <td>7.2500</td>\n",
              "    </tr>\n",
              "    <tr>\n",
              "      <th>1</th>\n",
              "      <td>1</td>\n",
              "      <td>1</td>\n",
              "      <td>0</td>\n",
              "      <td>38.0</td>\n",
              "      <td>1</td>\n",
              "      <td>0</td>\n",
              "      <td>71.2833</td>\n",
              "    </tr>\n",
              "    <tr>\n",
              "      <th>2</th>\n",
              "      <td>1</td>\n",
              "      <td>3</td>\n",
              "      <td>0</td>\n",
              "      <td>26.0</td>\n",
              "      <td>0</td>\n",
              "      <td>0</td>\n",
              "      <td>7.9250</td>\n",
              "    </tr>\n",
              "    <tr>\n",
              "      <th>3</th>\n",
              "      <td>1</td>\n",
              "      <td>1</td>\n",
              "      <td>0</td>\n",
              "      <td>35.0</td>\n",
              "      <td>1</td>\n",
              "      <td>0</td>\n",
              "      <td>53.1000</td>\n",
              "    </tr>\n",
              "    <tr>\n",
              "      <th>4</th>\n",
              "      <td>0</td>\n",
              "      <td>3</td>\n",
              "      <td>1</td>\n",
              "      <td>35.0</td>\n",
              "      <td>0</td>\n",
              "      <td>0</td>\n",
              "      <td>8.0500</td>\n",
              "    </tr>\n",
              "  </tbody>\n",
              "</table>\n",
              "</div>\n",
              "      <button class=\"colab-df-convert\" onclick=\"convertToInteractive('df-d37b8538-f48b-463e-bfd2-b6e00dd8b647')\"\n",
              "              title=\"Convert this dataframe to an interactive table.\"\n",
              "              style=\"display:none;\">\n",
              "        \n",
              "  <svg xmlns=\"http://www.w3.org/2000/svg\" height=\"24px\"viewBox=\"0 0 24 24\"\n",
              "       width=\"24px\">\n",
              "    <path d=\"M0 0h24v24H0V0z\" fill=\"none\"/>\n",
              "    <path d=\"M18.56 5.44l.94 2.06.94-2.06 2.06-.94-2.06-.94-.94-2.06-.94 2.06-2.06.94zm-11 1L8.5 8.5l.94-2.06 2.06-.94-2.06-.94L8.5 2.5l-.94 2.06-2.06.94zm10 10l.94 2.06.94-2.06 2.06-.94-2.06-.94-.94-2.06-.94 2.06-2.06.94z\"/><path d=\"M17.41 7.96l-1.37-1.37c-.4-.4-.92-.59-1.43-.59-.52 0-1.04.2-1.43.59L10.3 9.45l-7.72 7.72c-.78.78-.78 2.05 0 2.83L4 21.41c.39.39.9.59 1.41.59.51 0 1.02-.2 1.41-.59l7.78-7.78 2.81-2.81c.8-.78.8-2.07 0-2.86zM5.41 20L4 18.59l7.72-7.72 1.47 1.35L5.41 20z\"/>\n",
              "  </svg>\n",
              "      </button>\n",
              "      \n",
              "  <style>\n",
              "    .colab-df-container {\n",
              "      display:flex;\n",
              "      flex-wrap:wrap;\n",
              "      gap: 12px;\n",
              "    }\n",
              "\n",
              "    .colab-df-convert {\n",
              "      background-color: #E8F0FE;\n",
              "      border: none;\n",
              "      border-radius: 50%;\n",
              "      cursor: pointer;\n",
              "      display: none;\n",
              "      fill: #1967D2;\n",
              "      height: 32px;\n",
              "      padding: 0 0 0 0;\n",
              "      width: 32px;\n",
              "    }\n",
              "\n",
              "    .colab-df-convert:hover {\n",
              "      background-color: #E2EBFA;\n",
              "      box-shadow: 0px 1px 2px rgba(60, 64, 67, 0.3), 0px 1px 3px 1px rgba(60, 64, 67, 0.15);\n",
              "      fill: #174EA6;\n",
              "    }\n",
              "\n",
              "    [theme=dark] .colab-df-convert {\n",
              "      background-color: #3B4455;\n",
              "      fill: #D2E3FC;\n",
              "    }\n",
              "\n",
              "    [theme=dark] .colab-df-convert:hover {\n",
              "      background-color: #434B5C;\n",
              "      box-shadow: 0px 1px 3px 1px rgba(0, 0, 0, 0.15);\n",
              "      filter: drop-shadow(0px 1px 2px rgba(0, 0, 0, 0.3));\n",
              "      fill: #FFFFFF;\n",
              "    }\n",
              "  </style>\n",
              "\n",
              "      <script>\n",
              "        const buttonEl =\n",
              "          document.querySelector('#df-d37b8538-f48b-463e-bfd2-b6e00dd8b647 button.colab-df-convert');\n",
              "        buttonEl.style.display =\n",
              "          google.colab.kernel.accessAllowed ? 'block' : 'none';\n",
              "\n",
              "        async function convertToInteractive(key) {\n",
              "          const element = document.querySelector('#df-d37b8538-f48b-463e-bfd2-b6e00dd8b647');\n",
              "          const dataTable =\n",
              "            await google.colab.kernel.invokeFunction('convertToInteractive',\n",
              "                                                     [key], {});\n",
              "          if (!dataTable) return;\n",
              "\n",
              "          const docLinkHtml = 'Like what you see? Visit the ' +\n",
              "            '<a target=\"_blank\" href=https://colab.research.google.com/notebooks/data_table.ipynb>data table notebook</a>'\n",
              "            + ' to learn more about interactive tables.';\n",
              "          element.innerHTML = '';\n",
              "          dataTable['output_type'] = 'display_data';\n",
              "          await google.colab.output.renderOutput(dataTable, element);\n",
              "          const docLink = document.createElement('div');\n",
              "          docLink.innerHTML = docLinkHtml;\n",
              "          element.appendChild(docLink);\n",
              "        }\n",
              "      </script>\n",
              "    </div>\n",
              "  </div>\n",
              "  "
            ],
            "text/plain": [
              "   Survived  Pclass  Sex   Age  SibSp  Parch     Fare\n",
              "0         0       3    1  22.0      1      0   7.2500\n",
              "1         1       1    0  38.0      1      0  71.2833\n",
              "2         1       3    0  26.0      0      0   7.9250\n",
              "3         1       1    0  35.0      1      0  53.1000\n",
              "4         0       3    1  35.0      0      0   8.0500"
            ]
          },
          "metadata": {},
          "execution_count": 7
        }
      ]
    },
    {
      "cell_type": "code",
      "source": [
        "X = get_passenger_features(passenger_features)\n",
        "train.predict_proba(X.values)[0][1]\n"
      ],
      "metadata": {
        "colab": {
          "base_uri": "https://localhost:8080/"
        },
        "id": "4Ngx4SJb9ZSx",
        "outputId": "4bb14283-48bd-470d-8e4e-9c7c52ef9f82"
      },
      "id": "4Ngx4SJb9ZSx",
      "execution_count": null,
      "outputs": [
        {
          "output_type": "execute_result",
          "data": {
            "text/plain": [
              "0.52"
            ]
          },
          "metadata": {},
          "execution_count": 8
        }
      ]
    },
    {
      "cell_type": "code",
      "source": [
        ""
      ],
      "metadata": {
        "id": "Zk0ao-cqJtEj"
      },
      "id": "Zk0ao-cqJtEj",
      "execution_count": null,
      "outputs": []
    }
  ],
  "metadata": {
    "kernelspec": {
      "display_name": "Python 3 (ipykernel)",
      "language": "python",
      "name": "python3"
    },
    "language_info": {
      "codemirror_mode": {
        "name": "ipython",
        "version": 3
      },
      "file_extension": ".py",
      "mimetype": "text/x-python",
      "name": "python",
      "nbconvert_exporter": "python",
      "pygments_lexer": "ipython3",
      "version": "3.8.5"
    },
    "colab": {
      "name": "Layerv2.ipynb",
      "provenance": [],
      "collapsed_sections": [],
      "include_colab_link": true
    }
  },
  "nbformat": 4,
  "nbformat_minor": 5
}